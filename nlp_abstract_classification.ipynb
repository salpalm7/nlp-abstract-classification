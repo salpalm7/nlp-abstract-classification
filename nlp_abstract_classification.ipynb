{
  "nbformat": 4,
  "nbformat_minor": 0,
  "metadata": {
    "colab": {
      "name": "group96_code.ipynb",
      "provenance": [],
      "collapsed_sections": [
        "HbUJACz_2UzS"
      ],
      "toc_visible": true,
      "machine_shape": "hm"
    },
    "kernelspec": {
      "name": "python3",
      "display_name": "Python 3"
    }
  },
  "cells": [
    {
      "cell_type": "code",
      "metadata": {
        "id": "JFlWeflv8Djn",
        "colab": {
          "base_uri": "https://localhost:8080/",
          "height": 136
        },
        "outputId": "233a6c62-d911-4c01-b825-728249d528d1"
      },
      "source": [
        "# General\n",
        "import pandas as pd\n",
        "import numpy as np\n",
        "import re\n",
        "\n",
        "# Sklearn\n",
        "from sklearn.pipeline import Pipeline\n",
        "from sklearn.feature_extraction.text import CountVectorizer, TfidfVectorizer, TfidfTransformer\n",
        "from sklearn.preprocessing import normalize\n",
        "from sklearn.decomposition import PCA, TruncatedSVD\n",
        "from sklearn.naive_bayes import MultinomialNB\n",
        "from sklearn.metrics import accuracy_score, classification_report\n",
        "from sklearn.model_selection import cross_val_score\n",
        "\n",
        "\n",
        "# NLTK\n",
        "import nltk\n",
        "nltk.download('stopwords')\n",
        "nltk.download('punkt')\n",
        "from nltk.corpus import stopwords\n",
        "from nltk.tokenize import word_tokenize \n",
        "\n",
        "# Plotting\n",
        "import matplotlib.pyplot as plt\n",
        "\n",
        "# Google Colaboratory\n",
        "from pydrive.auth import GoogleAuth\n",
        "from pydrive.drive import GoogleDrive\n",
        "from google.colab import auth\n",
        "from oauth2client.client import GoogleCredentials\n",
        "from google.colab import drive\n",
        "\n",
        "\n",
        "from bs4 import BeautifulSoup\n",
        "\n",
        "# Doc2Vec\n",
        "from gensim.models import Doc2Vec\n",
        "from gensim.models.doc2vec import TaggedDocument\n",
        "from sklearn.metrics import accuracy_score, confusion_matrix\n",
        "from sklearn import linear_model\n",
        "\n",
        "#stemming and lemmatization\n",
        "from nltk.stem import PorterStemmer\n",
        "from nltk.stem import SnowballStemmer\n",
        "from nltk.stem import WordNetLemmatizer\n",
        "nltk.download(\"wordnet\")"
      ],
      "execution_count": null,
      "outputs": [
        {
          "output_type": "stream",
          "text": [
            "[nltk_data] Downloading package stopwords to /root/nltk_data...\n",
            "[nltk_data]   Unzipping corpora/stopwords.zip.\n",
            "[nltk_data] Downloading package punkt to /root/nltk_data...\n",
            "[nltk_data]   Unzipping tokenizers/punkt.zip.\n",
            "[nltk_data] Downloading package wordnet to /root/nltk_data...\n",
            "[nltk_data]   Unzipping corpora/wordnet.zip.\n"
          ],
          "name": "stdout"
        },
        {
          "output_type": "execute_result",
          "data": {
            "text/plain": [
              "True"
            ]
          },
          "metadata": {
            "tags": []
          },
          "execution_count": 3
        }
      ]
    },
    {
      "cell_type": "code",
      "metadata": {
        "id": "SOMOhs0Y8KUZ"
      },
      "source": [
        "auth.authenticate_user()\n",
        "gauth = GoogleAuth()\n",
        "gauth.credentials = GoogleCredentials.get_application_default()\n",
        "drive = GoogleDrive(gauth)"
      ],
      "execution_count": null,
      "outputs": []
    },
    {
      "cell_type": "markdown",
      "metadata": {
        "id": "sRUH31Ye4p8c"
      },
      "source": [
        "***200k***"
      ]
    },
    {
      "cell_type": "code",
      "metadata": {
        "id": "riMXHKZl8epw"
      },
      "source": [
        "#Fetch 200k train file\n",
        "link = 'https://drive.google.com/open?id=1lairBoF0Y74XwXiD1FHxzYwFR7NMncPo'\n",
        "fluff, id = link.split('=')\n",
        "downloaded = drive.CreateFile({'id':id}) \n",
        "downloaded.GetContentFile('train_200k.txt')"
      ],
      "execution_count": null,
      "outputs": []
    },
    {
      "cell_type": "code",
      "metadata": {
        "id": "NjyXfFbX4pGN"
      },
      "source": [
        "#Fetch 200k test file\n",
        "link = 'https://drive.google.com/open?id=1a_cGzgdXMPi_v9cHdzkO_-nmWN_nOcSj'\n",
        "fluff, id = link.split('=')\n",
        "downloaded = drive.CreateFile({'id':id}) \n",
        "downloaded.GetContentFile('test_200k.txt')"
      ],
      "execution_count": null,
      "outputs": []
    },
    {
      "cell_type": "markdown",
      "metadata": {
        "id": "j-gO1xx26HzI"
      },
      "source": [
        "***20k***"
      ]
    },
    {
      "cell_type": "code",
      "metadata": {
        "id": "QemayvHW8mNd"
      },
      "source": [
        "# Fetch csv file from drive, import as pandas dataframe\n",
        "link = 'https://drive.google.com/open?id=1oSRw680YGg6hO2d2l5FaFsG24q40HVPT'\n",
        "fluff, id = link.split('=')\n",
        "downloaded = drive.CreateFile({'id':id}) \n",
        "downloaded.GetContentFile('train.txt')"
      ],
      "execution_count": null,
      "outputs": []
    },
    {
      "cell_type": "code",
      "metadata": {
        "id": "wuX7gp1CXJr5"
      },
      "source": [
        "# Fetch test file\n",
        "\n",
        "link = 'https://drive.google.com/open?id=1H7QHUJGldX_vm7Z7w5AB9pOEWBQGmcgs'\n",
        "fluff, id = link.split('=')\n",
        "downloaded = drive.CreateFile({'id':id}) \n",
        "downloaded.GetContentFile('test.txt')"
      ],
      "execution_count": null,
      "outputs": []
    },
    {
      "cell_type": "code",
      "metadata": {
        "id": "FCJUqM4Mmeup",
        "colab": {
          "base_uri": "https://localhost:8080/",
          "height": 34
        },
        "outputId": "25d69531-99db-41b4-d8a8-b2d4bd98e6c7"
      },
      "source": [
        "# Mount drive\n",
        "\"\"\"\n",
        "# In order to access the folder sucessfully, \n",
        "# 1. go to your personal google drive\n",
        "# 2. go to shared with me\n",
        "# 3. right click \"Group 96 project\", select \"add to my drive\"\n",
        "# 4. then you will have \"Group 96 project\" in your own google drive\n",
        "        \n",
        "   \"\"\"\n",
        "from google.colab import drive\n",
        "drive.mount('/content/drive')"
      ],
      "execution_count": null,
      "outputs": [
        {
          "output_type": "stream",
          "text": [
            "Drive already mounted at /content/drive; to attempt to forcibly remount, call drive.mount(\"/content/drive\", force_remount=True).\n"
          ],
          "name": "stdout"
        }
      ]
    },
    {
      "cell_type": "code",
      "metadata": {
        "id": "2NzAhZ9T9O2q"
      },
      "source": [
        "def read_parse(file):\n",
        "    # Read file and split on identifiers\n",
        "    f = open(file, 'r')\n",
        "    sent_list = []\n",
        "    for line in f:\n",
        "        sent_dict = {}\n",
        "        words = line.split()\n",
        "        if len(words) <= 1:\n",
        "            continue\n",
        "        sent_dict[\"class\"] =  words[0]\n",
        "        sent_dict[\"text\"] = ' '.join(words[1:])\n",
        "        sent_list.append(sent_dict)  \n",
        "    f.close()\n",
        "    df = pd.DataFrame(sent_list)\n",
        "    # df['class'] = np.where(df['class']!='CONCLUSIONS', 'OTHER', 'CONCLUSIONS')\n",
        "    return df['text'], df['class']\n",
        "     "
      ],
      "execution_count": null,
      "outputs": []
    },
    {
      "cell_type": "markdown",
      "metadata": {
        "id": "pFKUOxiB8MCF"
      },
      "source": [
        "***200k***"
      ]
    },
    {
      "cell_type": "code",
      "metadata": {
        "id": "id2OPJUP7_W_"
      },
      "source": [
        "X_train_200k, y_train_200k = read_parse('train_200k.txt')\n",
        "X_test_200k, y_test_200k = read_parse('test_200k.txt')"
      ],
      "execution_count": null,
      "outputs": []
    },
    {
      "cell_type": "markdown",
      "metadata": {
        "id": "jUqJ-Bj_8Sif"
      },
      "source": [
        "***20k***"
      ]
    },
    {
      "cell_type": "code",
      "metadata": {
        "id": "ORLUaGEma2FH"
      },
      "source": [
        "X_train, y_train = read_parse('train.txt')\n",
        "X_test, y_test = read_parse('test.txt')"
      ],
      "execution_count": null,
      "outputs": []
    },
    {
      "cell_type": "markdown",
      "metadata": {
        "id": "S2b76wyr8IHV"
      },
      "source": [
        "### Data Cleaning"
      ]
    },
    {
      "cell_type": "code",
      "metadata": {
        "id": "Jk6FF8_J8Hbm"
      },
      "source": [
        "def clean_text(text):\n",
        "    \"\"\"\n",
        "        text: a string\n",
        "        return: modified initial string\n",
        "    \"\"\"\n",
        "    REPLACE_BY_SPACE_RE = re.compile('[/(){}\\[\\]\\|@,;]')\n",
        "    BAD_SYMBOLS_RE = re.compile('[^0-9a-z #+_]')\n",
        "    STOPWORDS = set(stopwords.words('english'))\n",
        "\n",
        "    text = BeautifulSoup(text, \"lxml\").text # HTML decoding\n",
        "    text = text.lower() # lowercase text\n",
        "    text = REPLACE_BY_SPACE_RE.sub(' ', text) # replace REPLACE_BY_SPACE_RE symbols by space in text\n",
        "    text = BAD_SYMBOLS_RE.sub('', text) # delete symbols which are in BAD_SYMBOLS_RE from text\n",
        "    text = ' '.join(word for word in text.split() if word not in STOPWORDS) # delete stopwors from text\n",
        "    return text\n",
        "\n",
        "X_train = X_train.apply(clean_text)\n"
      ],
      "execution_count": null,
      "outputs": []
    },
    {
      "cell_type": "code",
      "metadata": {
        "id": "1bB8bV67a4MQ"
      },
      "source": [
        "X_test = X_test.apply(clean_text)"
      ],
      "execution_count": null,
      "outputs": []
    },
    {
      "cell_type": "markdown",
      "metadata": {
        "id": "wn0sTOhmnYQh"
      },
      "source": [
        "### Data Pre-Processing"
      ]
    },
    {
      "cell_type": "markdown",
      "metadata": {
        "id": "LXw6vDjtpfAw"
      },
      "source": [
        "**TF-IDF**\n"
      ]
    },
    {
      "cell_type": "code",
      "metadata": {
        "id": "SXodYGdgpj15"
      },
      "source": [
        "vect = TfidfVectorizer(analyzer='word', stop_words='english', max_features=5000, norm='l2', sublinear_tf=True)\n",
        "X_train_tfidf_norm = vect.fit_transform(X_train)"
      ],
      "execution_count": null,
      "outputs": []
    },
    {
      "cell_type": "code",
      "metadata": {
        "id": "9kAKwvdOcgt6"
      },
      "source": [
        "X_test_tfidf_norm = vect.fit_transform(X_test)"
      ],
      "execution_count": null,
      "outputs": []
    },
    {
      "cell_type": "markdown",
      "metadata": {
        "id": "j2PobnKqoXfS"
      },
      "source": [
        "**Doc2Vec**"
      ]
    },
    {
      "cell_type": "markdown",
      "metadata": {
        "id": "Ho49kzrvB98w"
      },
      "source": [
        "***Loading part***\n",
        "- if vectorized dataset is already avaliable, just loaded it. It is much faster than train them from beginning"
      ]
    },
    {
      "cell_type": "code",
      "metadata": {
        "id": "XjsroNXrccDL"
      },
      "source": [
        "# directly load dbow_train\n",
        "\n",
        "#for Adam\n",
        "#doc2vec_train = np.load('/content/drive/My Drive/VUA UvA/1st Year/Machine Learning/Group 96 Project/Models/dbow_train_100.npy')\n",
        "\n",
        "#for other\n",
        "doc2vec_train = np.load('/content/drive/My Drive/Group 96 Project/Models/dbow_train_100.npy')"
      ],
      "execution_count": null,
      "outputs": []
    },
    {
      "cell_type": "markdown",
      "metadata": {
        "id": "lDe4eP19gyE_"
      },
      "source": [
        "***Loading test set***"
      ]
    },
    {
      "cell_type": "code",
      "metadata": {
        "id": "7LhZE_T8gNU9"
      },
      "source": [
        "#for Adam\n",
        "#doc2vec_test = np.load('/content/drive/My Drive/VUA UvA/1st Year/Machine Learning/Group 96 Project/Models/doc2vec_test.npy')\n",
        "\n",
        "#for other\n",
        "doc2vec_test = np.load('/content/drive/My Drive/Group 96 Project/Models/doc2vec_test.npy')"
      ],
      "execution_count": null,
      "outputs": []
    },
    {
      "cell_type": "markdown",
      "metadata": {
        "id": "OLkt5wiAwLWs"
      },
      "source": [
        "***Loading 200k***"
      ]
    },
    {
      "cell_type": "code",
      "metadata": {
        "id": "Zu3kRX-RwKTr"
      },
      "source": [
        "doc2vec_200k_train = np.load(\"/content/drive/My Drive/Group 96 Project/Models/doc2vec_train_200k_100d.npy\")\n",
        "doc2vec_200k_test = np.load(\"/content/drive/My Drive/Group 96 Project/Models/doc2vec_test_200k_100d.npy\")"
      ],
      "execution_count": null,
      "outputs": []
    },
    {
      "cell_type": "markdown",
      "metadata": {
        "id": "d_5XM8ckCg_D"
      },
      "source": [
        "***Modelling part***"
      ]
    },
    {
      "cell_type": "markdown",
      "metadata": {
        "id": "YdgOOPG1Bic-"
      },
      "source": [
        "***Tokenizing***"
      ]
    },
    {
      "cell_type": "code",
      "metadata": {
        "id": "w16g9z38Bic1"
      },
      "source": [
        "# Tokenize sentence\n",
        "def tokenization(data):\n",
        "  tokenized_data = []\n",
        "  for i in data: \n",
        "    temp = [] \n",
        "    for j in word_tokenize(i): \n",
        "        temp.append(j.lower()) \n",
        "    tokenized_data.append(temp)\n",
        "  return tokenized_data\n"
      ],
      "execution_count": null,
      "outputs": []
    },
    {
      "cell_type": "code",
      "metadata": {
        "id": "sGxEdsGybq-I"
      },
      "source": [
        "X_train_tokenized = tokenization(X_train)"
      ],
      "execution_count": null,
      "outputs": []
    },
    {
      "cell_type": "markdown",
      "metadata": {
        "id": "jfk6H6vIBic0"
      },
      "source": [
        "***Tagging function***\n"
      ]
    },
    {
      "cell_type": "code",
      "metadata": {
        "id": "D0lJdwFtBict"
      },
      "source": [
        "# Create tagged document\n",
        "\n",
        "def tagging (tokenized_input, label):\n",
        "  tagged = []\n",
        "  for i in range(len(tokenized_input)):\n",
        "    tagged.append(TaggedDocument(tokenized_input[i], tags=[label[i]]))\n",
        "  return tagged\n"
      ],
      "execution_count": null,
      "outputs": []
    },
    {
      "cell_type": "code",
      "metadata": {
        "id": "SBUjZG1qBicn",
        "colab": {
          "base_uri": "https://localhost:8080/",
          "height": 73
        },
        "outputId": "35b9d127-6b44-437e-f4ff-69158249abbb"
      },
      "source": [
        "# data without stemming or lemminzation\n",
        "train_tagged = tagging(X_train_tokenized, y_train)\n",
        "\n",
        "#row to inspect\n",
        "inspect_row = 1\n",
        "print(X_train_tokenized[inspect_row], train_tagged[inspect_row], sep = \"\\n\")"
      ],
      "execution_count": null,
      "outputs": [
        {
          "output_type": "stream",
          "text": [
            "['total', 'patients', 'primary', 'knee', 'oa', 'randomized', 'received', 'mg', 'day', 'prednisolone', 'received', 'placebo', 'weeks']\n",
            "TaggedDocument(['total', 'patients', 'primary', 'knee', 'oa', 'randomized', 'received', 'mg', 'day', 'prednisolone', 'received', 'placebo', 'weeks'], ['METHODS'])\n"
          ],
          "name": "stdout"
        }
      ]
    },
    {
      "cell_type": "markdown",
      "metadata": {
        "id": "IQqh2k8xBicl"
      },
      "source": [
        "***Model building***"
      ]
    },
    {
      "cell_type": "code",
      "metadata": {
        "id": "cFymoTWEBicc"
      },
      "source": [
        "# Train Doc2Vec\n",
        "# Train vocab train_tagged : tagged trainset\n",
        "\n",
        "model_name = \"doc2vec_train_d300\"\n",
        "model_dbow = Doc2Vec(dm =0, negative=5, hs=0, sample=0, vector_size=100, min_count=2, epochs=40)\n",
        "model_dbow.build_vocab(train_tagged) \n",
        "model_dbow.train(train_tagged,total_examples=model_dbow.corpus_count, epochs=model_dbow.epochs)\n",
        "model_dbow.save(\"/content/drive/My Drive/Group 96 Project/Models/{}\".format(model_name))"
      ],
      "execution_count": null,
      "outputs": []
    },
    {
      "cell_type": "markdown",
      "metadata": {
        "id": "1kRQbMydBica"
      },
      "source": [
        "***vector extraction***"
      ]
    },
    {
      "cell_type": "code",
      "metadata": {
        "id": "EW2LraNcBicU"
      },
      "source": [
        "#extract vector\n",
        "\n",
        "def doc2vec_vector (model, tokenized_input):\n",
        "  vectors = []\n",
        "  for words in tokenized_input:\n",
        "    vectors.append(model.infer_vector(words))\n",
        "  return vectors"
      ],
      "execution_count": null,
      "outputs": []
    },
    {
      "cell_type": "code",
      "metadata": {
        "id": "DEMvSpLbBicO"
      },
      "source": [
        "#save the output vectors\n",
        "\n",
        "dbow_train = doc2vec_vector (model_dbow, X_train_tokenized)\n",
        "np.save('/content/drive/My Drive/Group 96 Project/Models/{}.npy'.format(model_name), dbow_train)"
      ],
      "execution_count": null,
      "outputs": []
    },
    {
      "cell_type": "markdown",
      "metadata": {
        "id": "6JhR4phcVDlL"
      },
      "source": [
        "***Doc2vec Test set***"
      ]
    },
    {
      "cell_type": "markdown",
      "metadata": {
        "id": "Nhzd9aRdBidH"
      },
      "source": [
        "***Load models***\n",
        "- To check the model just saved.\n"
      ]
    },
    {
      "cell_type": "code",
      "metadata": {
        "id": "V5DmacpIBidA",
        "colab": {
          "base_uri": "https://localhost:8080/",
          "height": 70
        },
        "outputId": "87275817-b12f-4cfa-a212-8ecb4bc48d7d"
      },
      "source": [
        "normal_model = Doc2Vec.load('/content/drive/My Drive/Group 96 Project/Models/model_dbow_100v')"
      ],
      "execution_count": null,
      "outputs": [
        {
          "output_type": "stream",
          "text": [
            "/usr/local/lib/python3.6/dist-packages/smart_open/smart_open_lib.py:410: UserWarning: This function is deprecated, use smart_open.open instead. See the migration notes for details: https://github.com/RaRe-Technologies/smart_open/blob/master/README.rst#migrating-to-the-new-open-function\n",
            "  'See the migration notes for details: %s' % _MIGRATION_NOTES_URL\n"
          ],
          "name": "stderr"
        }
      ]
    },
    {
      "cell_type": "markdown",
      "metadata": {
        "id": "JqRkKMiqV0hw"
      },
      "source": [
        "***Vectorizing test set***"
      ]
    },
    {
      "cell_type": "code",
      "metadata": {
        "id": "qRmkASPnVBym"
      },
      "source": [
        "#execution function tokenization, function doc2vec_vector\n",
        "\n",
        "test_tokenized = tokenization(X_test)\n",
        "doc2vec_test = doc2vec_vector(normal_model, test_tokenized)"
      ],
      "execution_count": null,
      "outputs": []
    },
    {
      "cell_type": "code",
      "metadata": {
        "id": "GA2-30r8fv_v"
      },
      "source": [
        "np.save('/content/drive/My Drive/Group 96 Project/Models/doc2vec_test.npy', doc2vec_test)"
      ],
      "execution_count": null,
      "outputs": []
    },
    {
      "cell_type": "markdown",
      "metadata": {
        "id": "2UCndARhBicM"
      },
      "source": [
        "\n",
        "### Create & Visualize LSA"
      ]
    },
    {
      "cell_type": "code",
      "metadata": {
        "id": "5WywJCQ4BicD"
      },
      "source": [
        "svd = TruncatedSVD(n_components=50, random_state=42)\n",
        "svd_data = svd.fit_transform(X_train_tfidf_norm)"
      ],
      "execution_count": null,
      "outputs": []
    },
    {
      "cell_type": "code",
      "metadata": {
        "id": "RGbBOsklBib8",
        "colab": {
          "base_uri": "https://localhost:8080/",
          "height": 610
        },
        "outputId": "dea492f0-992e-4ce7-fcf4-3ad316f5fa31"
      },
      "source": [
        "labels = pd.Categorical(y_train).codes\n",
        "colors = ['red','blue','green','cyan','yellow','gray','magenta']\n",
        "def assigncolor(colors, assign):\n",
        "    c = []\n",
        "    for i in assign:\n",
        "        c.append(colors[i])\n",
        "    return c\n",
        "\n",
        "plt.figure(figsize=(10, 10))\n",
        "plt.scatter(svd_data[:,0],svd_data[:,1], c=assigncolor(colors,labels), marker=\"o\", edgecolors='black', s=10)\n"
      ],
      "execution_count": null,
      "outputs": [
        {
          "output_type": "execute_result",
          "data": {
            "text/plain": [
              "<matplotlib.collections.PathCollection at 0x7f9ea9f98c50>"
            ]
          },
          "metadata": {
            "tags": []
          },
          "execution_count": 15
        },
        {
          "output_type": "display_data",
          "data": {
            "image/png": "[encoded data removed]",
            "text/plain": [
              "<Figure size 720x720 with 1 Axes>"
            ]
          },
          "metadata": {
            "tags": []
          }
        }
      ]
    },
    {
      "cell_type": "code",
      "metadata": {
        "id": "nJ8IieMOBibz",
        "colab": {
          "base_uri": "https://localhost:8080/",
          "height": 34
        },
        "outputId": "2c9ad846-8be3-435d-b2b7-064ddb4ee3a3"
      },
      "source": [
        "#tSNE plot\n",
        "from sklearn.manifold import TSNE\n",
        "import seaborn as sns\n",
        "from scipy.sparse import csr_matrix\n",
        "from scipy import sparse\n",
        "import scipy\n",
        "\n",
        "tsne_train = scipy.sparse.csr_matrix([doc2vec_train[i] for i in range(len(doc2vec_train))])\n",
        "\n",
        "type(tsne_train)\n",
        "type(X_train_tfidf_norm)"
      ],
      "execution_count": null,
      "outputs": [
        {
          "output_type": "execute_result",
          "data": {
            "text/plain": [
              "scipy.sparse.csr.csr_matrix"
            ]
          },
          "metadata": {
            "tags": []
          },
          "execution_count": 18
        }
      ]
    },
    {
      "cell_type": "code",
      "metadata": {
        "id": "jDBQ3CjbBibs"
      },
      "source": [
        "from sklearn.manifold import TSNE\n",
        "import seaborn as sns\n",
        "tsne = TSNE(n_components=2, perplexity=30, n_iter=300)\n",
        "tsne_results = tsne.fit_transform(tsne_train)"
      ],
      "execution_count": null,
      "outputs": []
    },
    {
      "cell_type": "code",
      "metadata": {
        "id": "QRffAOkqBibg"
      },
      "source": [
        "from sklearn.manifold import TSNE\n",
        "import seaborn as sns\n",
        "\n",
        "#tsne = TSNE(n_components=2, verbose=1, perplexity=40, n_iter=300)\n",
        "#tsne_results = tsne.fit_transform(tsne_train)\n",
        "df_subset['tsne-2d-one'] = tsne_results[:,0]\n",
        "df_subset['tsne-2d-two'] = tsne_results[:,1]\n",
        "plt.figure(figsize=(16,10))\n",
        "sns.scatterplot(\n",
        "    x=\"tsne-2d-one\", y=\"tsne-2d-two\",\n",
        "    hue= y_train,\n",
        "    palette=sns.color_palette(\"hls\", 10),\n",
        "    data=df_subset,\n",
        "    legend=\"full\",\n",
        "    alpha=0.3\n",
        ")"
      ],
      "execution_count": null,
      "outputs": []
    },
    {
      "cell_type": "code",
      "metadata": {
        "id": "1QGhir_4BibY"
      },
      "source": [
        "from sklearn.manifold import TSNE\n",
        "import seaborn as sns\n",
        "\n",
        "# for TF-IDF\n",
        "tsne = TSNE(n_components=2, verbose=1, perplexity=40, n_iter=300)\n",
        "tsne_results = tsne.fit_transform(X_train_tfidf_norm)\n",
        "df_subset['tsne-2d-one'] = tsne_results[:,0]\n",
        "df_subset['tsne-2d-two'] = tsne_results[:,1]\n",
        "plt.figure(figsize=(16,10))\n",
        "sns.scatterplot(\n",
        "    x=\"tsne-2d-one\", y=\"tsne-2d-two\",\n",
        "    hue= y_train,\n",
        "    palette=sns.color_palette(\"hls\", 10),\n",
        "    data=df_subset,\n",
        "    legend=\"full\",\n",
        "    alpha=0.3\n",
        ")"
      ],
      "execution_count": null,
      "outputs": []
    },
    {
      "cell_type": "markdown",
      "metadata": {
        "id": "os6tgKUHBibU"
      },
      "source": [
        "### Naive-Bayes"
      ]
    },
    {
      "cell_type": "markdown",
      "metadata": {
        "id": "QSPOfiEPBibP"
      },
      "source": [
        "Note: Naive Bayes has no parameters to tune, so no cross-validation"
      ]
    },
    {
      "cell_type": "code",
      "metadata": {
        "id": "b_LDiuKEBibH"
      },
      "source": [
        "clf = MultinomialNB()\n",
        "scores = cross_val_score(clf, X_train_tfidf_norm, y_train, cv=5, scoring='f1_macro')\n",
        "print('data per fold', len(X_train)/5)\n",
        "print('macro f1 scores', scores)\n",
        "\n",
        "# Investigate distribution of F1 scores for every class\n",
        "clf.fit(X_train_tfidf_norm, y_train)\n",
        "y_pred = nb.predict(X_train_tfidf_norm)\n",
        "print('accuracy %s' % accuracy_score(y_pred, y_train))\n",
        "print(classification_report(y_train, y_pred))"
      ],
      "execution_count": null,
      "outputs": []
    },
    {
      "cell_type": "markdown",
      "metadata": {
        "id": "2nvyauxPBibE"
      },
      "source": [
        "### Mult-Class Logistic Regression"
      ]
    },
    {
      "cell_type": "markdown",
      "metadata": {
        "id": "4Wi6L-0CBibC"
      },
      "source": [
        "**Logreg multinomial Macro-F1 with cv=5**: *0.680*\n"
      ]
    },
    {
      "cell_type": "code",
      "metadata": {
        "id": "baGLcGBFBia4"
      },
      "source": [
        "logreg = LogisticRegression(solver='lbfgs', max_iter=10000, multi_class='multinomial')\n",
        "param_grid = {\"C\": np.logspace(-3,3,7)}\n",
        "grid = GridSearchCV(logreg, param_grid=param_grid, cv=5, return_train_score=True, scoring='f1_macro')\n",
        "grid.fit(X_train_tfidf_norm, y_train)\n",
        "print(grid.best_score_)\n",
        "print(grid.best_params_)"
      ],
      "execution_count": null,
      "outputs": []
    },
    {
      "cell_type": "code",
      "metadata": {
        "id": "u0unzc78Biat",
        "colab": {
          "base_uri": "https://localhost:8080/",
          "height": 73
        },
        "outputId": "414d9933-5c3c-45d3-aee8-eb72d89125bb"
      },
      "source": [
        "logreg = LogisticRegression(solver='lbfgs', max_iter=10000, multi_class='multinomial')\n",
        "scores = cross_val_score(logreg, X_train_tfidf_norm, y_train, cv=5, scoring='f1_macro')\n",
        "print('data per fold', len(X_train)/5)\n",
        "print('macro f1 scores', scores)\n",
        "print(mean(scores))"
      ],
      "execution_count": null,
      "outputs": [
        {
          "output_type": "stream",
          "text": [
            "data per fold 36008.0\n",
            "macro f1 scores [0.61361475 0.61211009 0.6101135  0.61483589 0.61308735]\n",
            "0.6127523150807936\n"
          ],
          "name": "stdout"
        }
      ]
    },
    {
      "cell_type": "markdown",
      "metadata": {
        "id": "f_ii96RZBiaq"
      },
      "source": [
        "### One Vs Rest Classifier (SVM and Logistic Regression)\n",
        "\n"
      ]
    },
    {
      "cell_type": "markdown",
      "metadata": {
        "id": "ICdPnfuSBian"
      },
      "source": [
        "\n",
        "**Logreg OVR Macro-F1 with cv=5**: *0.680*"
      ]
    },
    {
      "cell_type": "code",
      "metadata": {
        "id": "h46iGoWfBiad",
        "colab": {
          "base_uri": "https://localhost:8080/",
          "height": 73
        },
        "outputId": "4620c3bd-779d-4390-bfd4-869465c2406a"
      },
      "source": [
        "# One vs Rest Logistic Regression\n",
        "logreg = LogisticRegression(solver='lbfgs', max_iter=10000, multi_class='ovr')\n",
        "scores = cross_val_score(logreg, X_train_tfidf_norm, y_train, cv=5, scoring='f1_macro')\n",
        "print('data per fold', len(X_train)/5)\n",
        "print('macro f1 scores', scores)\n",
        "print(mean(scores))"
      ],
      "execution_count": null,
      "outputs": [
        {
          "output_type": "stream",
          "text": [
            "data per fold 36008.0\n",
            "macro f1 scores [0.60752971 0.60570132 0.60256372 0.60825916 0.60562485]\n",
            "0.6059357528420115\n"
          ],
          "name": "stdout"
        }
      ]
    },
    {
      "cell_type": "markdown",
      "metadata": {
        "id": "flkmoW9_BiaX"
      },
      "source": [
        "**Linsvc OVR Macro-F1 with cv=5**: *0.675*"
      ]
    },
    {
      "cell_type": "code",
      "metadata": {
        "id": "23FHPeH5BiaD",
        "colab": {
          "base_uri": "https://localhost:8080/",
          "height": 72
        },
        "outputId": "7a737e22-eb18-414d-bfe2-7a5aad0e1814"
      },
      "source": [
        "# One vs Rest LinSVC\n",
        "from sklearn.svm import LinearSVC\n",
        "linsvc = LinearSVC(random_state=42, multi_class='ovr')\n",
        "scores = cross_val_score(linsvc, X_train_tfidf_norm, y_train, cv=5, scoring='f1_macro')\n",
        "print('data per fold', len(X_train)/5)\n",
        "print('macro f1 scores', scores)\n",
        "print(mean(scores))"
      ],
      "execution_count": null,
      "outputs": [
        {
          "output_type": "stream",
          "text": [
            "data per fold 36008.0\n",
            "macro f1 scores [0.67694017 0.67423644 0.67344492 0.67609787 0.67507425]\n",
            "0.675158728804168\n"
          ],
          "name": "stdout"
        }
      ]
    },
    {
      "cell_type": "markdown",
      "metadata": {
        "id": "r64K-yWNBiaA"
      },
      "source": [
        ""
      ]
    },
    {
      "cell_type": "code",
      "metadata": {
        "id": "D3vtaumABiZS"
      },
      "source": [
        "from sklearn.linear_model import LogisticRegression\n",
        "\n",
        "x = X_train_tfidf_norm\n",
        "y = y_train\n",
        "\n",
        "clf = LogisticRegression(random_state=42, max_iter = 5000, multi_class= 'ovr')\n",
        "scores = cross_val_score(clf, x, y, cv=5, scoring='f1_macro')\n",
        "\n",
        "clf.fit(x,y)\n",
        "\n",
        "print(\"Optimized score on training set:\", clf.score(x, y))\n",
        "\n",
        "print('macro f1 scores', scores)\n",
        "\n"
      ],
      "execution_count": null,
      "outputs": []
    },
    {
      "cell_type": "markdown",
      "metadata": {
        "id": "DUvyXhcQBiZO"
      },
      "source": [
        ""
      ]
    },
    {
      "cell_type": "markdown",
      "metadata": {
        "id": "eV8JQT9KBiZJ"
      },
      "source": [
        "### SVM"
      ]
    },
    {
      "cell_type": "code",
      "metadata": {
        "id": "x-Z3D0m9BiYj"
      },
      "source": [
        "# Sklearn\n",
        "from sklearn.svm import SVC\n",
        "\n",
        "#Data\n",
        "x = X_train_tfidf_norm\n",
        "y = y_train\n",
        "\n",
        "## defining svm models\n",
        "\n",
        "# linear svm\n",
        "# linear_svc = Pipeline([(\"tfidf_vectorizer\", TfidfVectorizer(analyzer = lambda x: x)), (\"linear svc\", SVC(kernal=\"linear\"))])\n",
        "\n",
        "= svm.SVC(kernel='linear')\n",
        "\n",
        "# rbf svm\n",
        "# rbf_svc = Pipeline([(\"tfidf_vectorizer\", TfidfVectorizer(analyzer = lambda x: x)), (\"rbf svc\", SVC(kernal=\"rbf\"))])\n",
        "\n",
        "\n",
        "\n",
        "\n"
      ],
      "execution_count": null,
      "outputs": []
    },
    {
      "cell_type": "markdown",
      "metadata": {
        "id": "HbUJACz_2UzS"
      },
      "source": [
        "# Decision Tree\n"
      ]
    },
    {
      "cell_type": "code",
      "metadata": {
        "id": "phpFs_NS_Cpe",
        "colab": {
          "base_uri": "https://localhost:8080/",
          "height": 68
        },
        "outputId": "6d088683-d10f-412f-8748-e54bf16be3a2"
      },
      "source": [
        "from sklearn import tree\n",
        "from sklearn.model_selection import cross_val_score\n",
        "clf = tree.DecisionTreeClassifier()\n",
        "scores = cross_val_score(clf, doc2vec_train, y_train, cv=5, scoring='f1_macro')\n",
        "print('data per fold', len(doc2vec_train)/5)\n",
        "print('macro f1 scores', scores)\n",
        "sum(scores)/5"
      ],
      "execution_count": null,
      "outputs": [
        {
          "output_type": "stream",
          "text": [
            "data per fold 36008.0\n",
            "macro f1 scores [0.52172133 0.50345425 0.50918451 0.50968731 0.5127173 ]\n"
          ],
          "name": "stdout"
        },
        {
          "output_type": "execute_result",
          "data": {
            "text/plain": [
              "0.5113529389395537"
            ]
          },
          "metadata": {
            "tags": []
          },
          "execution_count": 10
        }
      ]
    },
    {
      "cell_type": "code",
      "metadata": {
        "id": "cxMy6sq0efr3",
        "colab": {
          "base_uri": "https://localhost:8080/",
          "height": 68
        },
        "outputId": "da0db448-20da-4829-b715-13bdc70a6a64"
      },
      "source": [
        "from sklearn import tree\n",
        "from sklearn.model_selection import cross_val_score\n",
        "from sklearn.ensemble import RandomForestClassifier\n",
        "X = X_train_tfidf_norm\n",
        "Y = y_train\n",
        "rf = RandomForestClassifier(n_estimators = 100)\n",
        "scores = cross_val_score(clf, doc2vec_train, y_train, cv=5, scoring='f1_macro')\n",
        "print('data per fold', len(X_train)/5)\n",
        "print('macro f1 scores', scores)\n",
        "sum(scores)/5"
      ],
      "execution_count": null,
      "outputs": [
        {
          "output_type": "stream",
          "text": [
            "data per fold 36008.0\n",
            "macro f1 scores [0.51937689 0.50429507 0.50920178 0.51125896 0.51378781]\n"
          ],
          "name": "stdout"
        },
        {
          "output_type": "execute_result",
          "data": {
            "text/plain": [
              "0.5115841052530548"
            ]
          },
          "metadata": {
            "tags": []
          },
          "execution_count": 11
        }
      ]
    },
    {
      "cell_type": "code",
      "metadata": {
        "id": "iG7ptOS6LarG"
      },
      "source": [
        "from sklearn import tree\n",
        "from sklearn.model_selection import cross_val_score\n",
        "from sklearn.ensemble import RandomForestClassifier\n",
        "from sklearn.model_selection import RandomizedSearchCV\n",
        "from sklearn.model_selection import GridSearchCV\n",
        "# Number of trees in random forest\n",
        "n_estimators = [int(x) for x in np.linspace(start = 100, stop = 100, num = 10)]\n",
        "# Number of features to consider at every split\n",
        "max_features = ['auto', 'sqrt']\n",
        "# Maximum number of levels in tree\n",
        "max_depth = [int(x) for x in np.linspace(10, 110, num = 11)]\n",
        "max_depth.append(None)\n",
        "# Minimum number of samples required to split a node\n",
        "min_samples_split = [2, 5, 10]\n",
        "# Minimum number of samples required at each leaf node\n",
        "min_samples_leaf = [1, 2, 4]\n",
        "# Method of selecting samples for training each tree\n",
        "bootstrap = [True, False]\n",
        "# Create the random grid\n",
        "param_grid = {'n_estimators': n_estimators,\n",
        "               'max_features': max_features,\n",
        "               'max_depth': max_depth,\n",
        "               'min_samples_split': min_samples_split,\n",
        "               'min_samples_leaf': min_samples_leaf,\n",
        "               'bootstrap': bootstrap}\n",
        "\n",
        "rf = RandomForestClassifier(random_state = 42)\n",
        "RandomizedSearchCV(rf, param_distributions = param_grid, n_iter=100, cv=5, verbose=2, random_state=42)\n",
        "grid = GridSearchCV(rf, param_grid, scoring = 'f1_macro', cv=5, return_train_score =True)\n",
        "grid.fit(doc2vec_train,y_train)\n",
        "print(grid.best_score_)\n",
        "print(grid.best_params_)"
      ],
      "execution_count": null,
      "outputs": []
    },
    {
      "cell_type": "code",
      "metadata": {
        "id": "jdQb8WZNpTms"
      },
      "source": [
        "grid"
      ],
      "execution_count": null,
      "outputs": []
    },
    {
      "cell_type": "code",
      "metadata": {
        "id": "z--T-gW3aO3N"
      },
      "source": [
        "np.shape(doc2vec_train)"
      ],
      "execution_count": null,
      "outputs": []
    },
    {
      "cell_type": "markdown",
      "metadata": {
        "id": "-VA3xE5zbI8S"
      },
      "source": [
        "# Doc2vec predictions\n",
        "- Simple logstic regression\n",
        "- Direct prediction by the most similar"
      ]
    },
    {
      "cell_type": "markdown",
      "metadata": {
        "id": "YvdO5-yKmCd0"
      },
      "source": [
        "***Plot and graph***"
      ]
    },
    {
      "cell_type": "code",
      "metadata": {
        "id": "x5k9kPvnbO7K"
      },
      "source": [
        "my_tags = y_train.unique()\n",
        "def plot_confusion_matrix(cm, title='Confusion matrix', cmap=plt.cm.Blues):\n",
        "    plt.imshow(cm, interpolation='nearest', cmap=cmap)\n",
        "    plt.title(title)\n",
        "    plt.colorbar()\n",
        "    tick_marks = np.arange(len(my_tags))\n",
        "    target_names = my_tags\n",
        "    plt.xticks(tick_marks, target_names, rotation=45)\n",
        "    plt.yticks(tick_marks, target_names)\n",
        "    plt.tight_layout()\n",
        "    plt.ylabel('True label')\n",
        "    plt.xlabel('Predicted label')\n",
        "\n",
        "def evaluate_prediction(predictions, target, title=\"Confusion matrix\"):\n",
        "    print('accuracy %s' % accuracy_score(target, predictions))\n",
        "    cm = confusion_matrix(target, predictions, labels=my_tags)\n",
        "    print('confusion matrix\\n %s' % cm)\n",
        "    print('(row=expected, col=predicted)')\n",
        "    print(classification_report(target, predictions)) \n",
        "\n",
        "    cm_normalized = cm.astype('float') / cm.sum(axis=1)[:, np.newaxis]\n",
        "    plot_confusion_matrix(cm_normalized, title + ' Normalized')"
      ],
      "execution_count": null,
      "outputs": []
    },
    {
      "cell_type": "markdown",
      "metadata": {
        "id": "CFArr9qMl4h9"
      },
      "source": [
        "***Simple logistic regression***"
      ]
    },
    {
      "cell_type": "code",
      "metadata": {
        "id": "ObUBkEbdbzNm"
      },
      "source": [
        "# select one of dataset, X_train_tfidf_norm, doc2vec_train\n",
        "simple_set = doc2vec_200k_train"
      ],
      "execution_count": null,
      "outputs": []
    },
    {
      "cell_type": "code",
      "metadata": {
        "id": "SV2yiZjhbZqv",
        "colab": {
          "base_uri": "https://localhost:8080/",
          "height": 647
        },
        "outputId": "c5ea8c3f-208a-44a3-ce7e-e542e0dd8123"
      },
      "source": [
        "#linear regression model\n",
        "logreg = linear_model.LogisticRegression(penalty = \"l1\", max_iter= 300, n_jobs=1, C=1e5)\n",
        "logreg = logreg.fit(simple_set, y_train)\n",
        "#evaluation of model\n",
        "evaluate_prediction(logreg.predict(doc2vec_test), y_test, title=str(normal_model))"
      ],
      "execution_count": null,
      "outputs": [
        {
          "output_type": "stream",
          "text": [
            "accuracy 0.740235606437697\n",
            "confusion matrix\n",
            " [[1067  276   55  223  712]\n",
            " [ 125 8545  812  158  257]\n",
            " [  40 1230 7787  517  139]\n",
            " [ 198  233  694 2845  601]\n",
            " [ 479  339  122  618 2063]]\n",
            "(row=expected, col=predicted)\n",
            "              precision    recall  f1-score   support\n",
            "\n",
            "  BACKGROUND       0.55      0.57      0.56      3621\n",
            " CONCLUSIONS       0.65      0.62      0.64      4571\n",
            "     METHODS       0.80      0.86      0.83      9897\n",
            "   OBJECTIVE       0.56      0.46      0.50      2333\n",
            "     RESULTS       0.82      0.80      0.81      9713\n",
            "\n",
            "    accuracy                           0.74     30135\n",
            "   macro avg       0.68      0.66      0.67     30135\n",
            "weighted avg       0.74      0.74      0.74     30135\n",
            "\n"
          ],
          "name": "stdout"
        },
        {
          "output_type": "display_data",
          "data": {
            "image/png": "[encoded data removed]",
            "text/plain": [
              "<Figure size 432x288 with 2 Axes>"
            ]
          },
          "metadata": {
            "tags": []
          }
        }
      ]
    },
    {
      "cell_type": "markdown",
      "metadata": {
        "id": "X4xnLml5neXp"
      },
      "source": [
        "***Direct prediction by the most similar***\n"
      ]
    },
    {
      "cell_type": "code",
      "metadata": {
        "id": "v06Yk9DC-Vy9"
      },
      "source": [
        "normal_model = Doc2Vec.load('/content/drive/My Drive/Group 96 Project/Models/model_dbow_100v')"
      ],
      "execution_count": null,
      "outputs": []
    },
    {
      "cell_type": "code",
      "metadata": {
        "id": "TYQpR_Urv3DL"
      },
      "source": [
        "#no linear algebra, just use most similar\n",
        "dbow_train_prediction = dbow_prediction(normal_model, train_tagged, 0)\n",
        "dbow_train_prediction[0:10]\n",
        "evaluate_prediction(dbow_train_prediction, y_train,  title=str(model_dbow))"
      ],
      "execution_count": null,
      "outputs": []
    },
    {
      "cell_type": "code",
      "metadata": {
        "id": "4hXeD3scCv81",
        "colab": {
          "base_uri": "https://localhost:8080/",
          "height": 221
        },
        "outputId": "f7ab9fe1-2a9b-4648-8a11-e962db36f898"
      },
      "source": [
        "print(y_train)"
      ],
      "execution_count": null,
      "outputs": [
        {
          "output_type": "stream",
          "text": [
            "0           OBJECTIVE\n",
            "1             METHODS\n",
            "2             METHODS\n",
            "3             METHODS\n",
            "4             METHODS\n",
            "             ...     \n",
            "180035        RESULTS\n",
            "180036        RESULTS\n",
            "180037        RESULTS\n",
            "180038    CONCLUSIONS\n",
            "180039    CONCLUSIONS\n",
            "Name: class, Length: 180040, dtype: object\n"
          ],
          "name": "stdout"
        }
      ]
    }
  ]
}